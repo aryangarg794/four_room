{
 "cells": [
  {
   "cell_type": "code",
   "execution_count": 7,
   "id": "748ed3d6",
   "metadata": {},
   "outputs": [],
   "source": [
    "import dill \n",
    "import torch \n",
    "import torch.nn as nn\n",
    "import numpy as np\n",
    "from four_room.shortest_path import find_all_action_values\n",
    "from four_room.env import FourRoomsEnv\n",
    "from four_room.wrappers import gym_wrapper\n",
    "import numpy as np\n",
    "import dill\n",
    "import gymnasium as gym\n",
    "from four_room.utils import obs_to_state\n",
    "from four_room.arch import CNN\n",
    "from tqdm import tqdm"
   ]
  },
  {
   "cell_type": "markdown",
   "id": "5c77ec22",
   "metadata": {},
   "source": [
    "### Setting up the datasets"
   ]
  },
  {
   "cell_type": "code",
   "execution_count": 2,
   "id": "02d6f828",
   "metadata": {},
   "outputs": [],
   "source": [
    "gym.register('MiniGrid-FourRooms-v1', FourRoomsEnv)\n",
    "size = 19\n",
    "with open('configs/train.pl', 'rb') as file:\n",
    "    train_config = dill.load(file)"
   ]
  },
  {
   "cell_type": "code",
   "execution_count": 3,
   "id": "b3032cd4",
   "metadata": {},
   "outputs": [
    {
     "name": "stderr",
     "output_type": "stream",
     "text": [
      "c:\\Users\\garga\\Documents\\Uni\\four_room\\venv\\Lib\\site-packages\\gymnasium\\core.py:311: UserWarning: \u001b[33mWARN: env.height to get variables from other wrappers is deprecated and will be removed in v1.0, to get this variable you can do `env.unwrapped.height` for environment variables or `env.get_wrapper_attr('height')` that will search the reminding wrappers.\u001b[0m\n",
      "  logger.warn(\n",
      "c:\\Users\\garga\\Documents\\Uni\\four_room\\venv\\Lib\\site-packages\\gymnasium\\core.py:311: UserWarning: \u001b[33mWARN: env.width to get variables from other wrappers is deprecated and will be removed in v1.0, to get this variable you can do `env.unwrapped.width` for environment variables or `env.get_wrapper_attr('width')` that will search the reminding wrappers.\u001b[0m\n",
      "  logger.warn(\n"
     ]
    }
   ],
   "source": [
    "env = gym_wrapper(gym.make(\n",
    "        'MiniGrid-FourRooms-v1', \n",
    "        agent_pos= train_config['agent positions'],\n",
    "        goal_pos = train_config['goal positions'],\n",
    "        doors_pos = train_config['topologies'],\n",
    "        agent_dir = train_config['agent directions'],\n",
    "        size=size\n",
    "    ),\n",
    "    original_obs=True\n",
    ")"
   ]
  },
  {
   "cell_type": "code",
   "execution_count": 4,
   "id": "7202dff0",
   "metadata": {},
   "outputs": [],
   "source": [
    "class Dataset:\n",
    "    \n",
    "    def __init__(self):\n",
    "        self.X = []\n",
    "        self.Y = []\n",
    "        self.states = []\n",
    "        \n",
    "    def add(self, x, y, state):\n",
    "        self.X.append(x)\n",
    "        self.Y.append(y)\n",
    "        self.states.append(state)\n",
    "        \n",
    "        assert len(self.X) == len(self.Y)\n",
    "    \n",
    "    def __getitem__(self, index):\n",
    "        return (self.X[index], self.Y[index])\n",
    "    \n",
    "    def __len__(self):\n",
    "        return len(self.X)\n",
    "    "
   ]
  },
  {
   "cell_type": "code",
   "execution_count": 5,
   "id": "b05ee858",
   "metadata": {},
   "outputs": [
    {
     "name": "stderr",
     "output_type": "stream",
     "text": [
      "  0%|          | 0/200 [00:00<?, ?it/s]c:\\Users\\garga\\Documents\\Uni\\four_room\\four_room\\shortest_path.py:152: RuntimeWarning: overflow encountered in scalar subtract\n",
      "  for p in nx.all_shortest_paths(graph, source=(*agent_pos, (agent_dir - 1)%4), target=(*goal_pos, dir)):\n",
      "100%|██████████| 200/200 [00:54<00:00,  3.70it/s]\n"
     ]
    }
   ],
   "source": [
    "argmax_dataset = Dataset()\n",
    "\n",
    "for i in tqdm(range(len(train_config['topologies']))):\n",
    "    obs, _ = env.reset()\n",
    "    done = False\n",
    "    while not done:\n",
    "        state = obs_to_state(obs)\n",
    "        q = find_all_action_values(state[:2], state[2], state[3:5], state[5:], 0.99, size)\n",
    "        action = np.array(q).argmax()\n",
    "        argmax_dataset.add(obs, q, state)\n",
    "        obs, reward, terminated, truncated, info = env.step(action)\n",
    "        done = terminated or truncated\n",
    "        \n",
    "with open('action_values/argmax_dataset.pl', 'wb') as file:\n",
    "    dill.dump(argmax_dataset, file)"
   ]
  },
  {
   "cell_type": "code",
   "execution_count": 6,
   "id": "1a7c979a",
   "metadata": {},
   "outputs": [
    {
     "name": "stderr",
     "output_type": "stream",
     "text": [
      "  0%|          | 0/200 [00:00<?, ?it/s]c:\\Users\\garga\\Documents\\Uni\\four_room\\four_room\\shortest_path.py:152: RuntimeWarning: overflow encountered in scalar subtract\n",
      "  for p in nx.all_shortest_paths(graph, source=(*agent_pos, (agent_dir - 1)%4), target=(*goal_pos, dir)):\n",
      "100%|██████████| 200/200 [05:38<00:00,  1.69s/it]\n"
     ]
    }
   ],
   "source": [
    "random_dataset = Dataset()\n",
    "\n",
    "for i in tqdm(range(len(train_config['topologies']))):\n",
    "    obs, _ = env.reset()\n",
    "    done = False\n",
    "    while not done:\n",
    "        state = obs_to_state(obs)\n",
    "        q = find_all_action_values(state[:2], state[2], state[3:5], state[5:], 0.99, size)\n",
    "        action = env.action_space.sample()\n",
    "        random_dataset.add(obs, q, state)\n",
    "        obs, reward, terminated, truncated, info = env.step(action)\n",
    "        done = terminated or truncated\n",
    "        \n",
    "with open('action_values/random_dataset.pl', 'wb') as file:\n",
    "    dill.dump(random_dataset, file)"
   ]
  },
  {
   "cell_type": "markdown",
   "id": "81ec6d65",
   "metadata": {},
   "source": [
    "### Regression part"
   ]
  },
  {
   "cell_type": "code",
   "execution_count": null,
   "id": "51820727",
   "metadata": {},
   "outputs": [],
   "source": [
    "class RegressionModel(nn.Module):\n",
    "    \n",
    "    def __init__(\n",
    "        self, \n",
    "        obsservation_space, \n",
    "        *args, \n",
    "        **kwargs\n",
    "    ):\n",
    "        super(RegressionModel, self).__init__(*args, **kwargs)\n",
    "        \n",
    "        \n",
    "        "
   ]
  }
 ],
 "metadata": {
  "kernelspec": {
   "display_name": "venv",
   "language": "python",
   "name": "python3"
  },
  "language_info": {
   "codemirror_mode": {
    "name": "ipython",
    "version": 3
   },
   "file_extension": ".py",
   "mimetype": "text/x-python",
   "name": "python",
   "nbconvert_exporter": "python",
   "pygments_lexer": "ipython3",
   "version": "3.11.5"
  }
 },
 "nbformat": 4,
 "nbformat_minor": 5
}
