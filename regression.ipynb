{
 "cells": [
  {
   "cell_type": "code",
   "execution_count": 23,
   "id": "748ed3d6",
   "metadata": {},
   "outputs": [],
   "source": [
    "import dill \n",
    "import torch \n",
    "import torch.nn as nn\n",
    "import numpy as np\n",
    "from four_room.shortest_path import find_all_action_values\n",
    "from four_room.env import FourRoomsEnv\n",
    "from four_room.wrappers import gym_wrapper\n",
    "import numpy as np\n",
    "import dill\n",
    "import gymnasium as gym\n",
    "from four_room.utils import obs_to_state\n",
    "from four_room.arch import CNN\n",
    "from tqdm import tqdm\n",
    "import matplotlib.pyplot as plt"
   ]
  },
  {
   "cell_type": "markdown",
   "id": "5c77ec22",
   "metadata": {},
   "source": [
    "### Setting up the datasets"
   ]
  },
  {
   "cell_type": "code",
   "execution_count": 30,
   "id": "02d6f828",
   "metadata": {},
   "outputs": [],
   "source": [
    "gym.register('MiniGrid-FourRooms-v1', FourRoomsEnv)\n",
    "size = 19\n",
    "with open('configs/train.pl', 'rb') as file:\n",
    "    train_config = dill.load(file)\n",
    "\n",
    "with open('configs/test_unreachable.pl', 'rb') as file:\n",
    "    test_config = dill.load(file)\n",
    "\n",
    "with open('configs/validation_unreachable.pl', 'rb') as file:\n",
    "    val_config = dill.load(file)"
   ]
  },
  {
   "cell_type": "code",
   "execution_count": 3,
   "id": "b3032cd4",
   "metadata": {},
   "outputs": [
    {
     "name": "stderr",
     "output_type": "stream",
     "text": [
      "c:\\Users\\garga\\Documents\\Uni\\four_room\\venv\\Lib\\site-packages\\gymnasium\\core.py:311: UserWarning: \u001b[33mWARN: env.height to get variables from other wrappers is deprecated and will be removed in v1.0, to get this variable you can do `env.unwrapped.height` for environment variables or `env.get_wrapper_attr('height')` that will search the reminding wrappers.\u001b[0m\n",
      "  logger.warn(\n",
      "c:\\Users\\garga\\Documents\\Uni\\four_room\\venv\\Lib\\site-packages\\gymnasium\\core.py:311: UserWarning: \u001b[33mWARN: env.width to get variables from other wrappers is deprecated and will be removed in v1.0, to get this variable you can do `env.unwrapped.width` for environment variables or `env.get_wrapper_attr('width')` that will search the reminding wrappers.\u001b[0m\n",
      "  logger.warn(\n"
     ]
    }
   ],
   "source": [
    "env = gym_wrapper(gym.make(\n",
    "        'MiniGrid-FourRooms-v1', \n",
    "        agent_pos= train_config['agent positions'],\n",
    "        goal_pos = train_config['goal positions'],\n",
    "        doors_pos = train_config['topologies'],\n",
    "        agent_dir = train_config['agent directions'],\n",
    "        size=size\n",
    "    ),\n",
    "    original_obs=True\n",
    ")"
   ]
  },
  {
   "cell_type": "code",
   "execution_count": 4,
   "id": "7202dff0",
   "metadata": {},
   "outputs": [],
   "source": [
    "class Dataset:\n",
    "    \n",
    "    def __init__(self):\n",
    "        self.X = []\n",
    "        self.Y = []\n",
    "        self.states = []\n",
    "        \n",
    "    def add(self, x, y, state):\n",
    "        self.X.append(x)\n",
    "        self.Y.append(y)\n",
    "        self.states.append(state)\n",
    "        \n",
    "        assert len(self.X) == len(self.Y)\n",
    "    \n",
    "    def __getitem__(self, index):\n",
    "        return (self.X[index], self.Y[index])\n",
    "    \n",
    "    def __len__(self):\n",
    "        return len(self.X)\n",
    "    "
   ]
  },
  {
   "cell_type": "code",
   "execution_count": 5,
   "id": "b05ee858",
   "metadata": {},
   "outputs": [
    {
     "name": "stderr",
     "output_type": "stream",
     "text": [
      "  0%|          | 0/200 [00:00<?, ?it/s]c:\\Users\\garga\\Documents\\Uni\\four_room\\four_room\\shortest_path.py:152: RuntimeWarning: overflow encountered in scalar subtract\n",
      "  for p in nx.all_shortest_paths(graph, source=(*agent_pos, (agent_dir - 1)%4), target=(*goal_pos, dir)):\n",
      "100%|██████████| 200/200 [00:54<00:00,  3.70it/s]\n"
     ]
    }
   ],
   "source": [
    "argmax_dataset = Dataset()\n",
    "\n",
    "for i in tqdm(range(len(train_config['topologies']))):\n",
    "    obs, _ = env.reset()\n",
    "    done = False\n",
    "    while not done:\n",
    "        state = obs_to_state(obs)\n",
    "        q = find_all_action_values(state[:2], state[2], state[3:5], state[5:], 0.99, size)\n",
    "        action = np.array(q).argmax()\n",
    "        argmax_dataset.add(obs, q, state)\n",
    "        obs, reward, terminated, truncated, info = env.step(action)\n",
    "        done = terminated or truncated\n",
    "        \n",
    "with open('action_values/argmax_dataset.pl', 'wb') as file:\n",
    "    dill.dump(argmax_dataset, file)"
   ]
  },
  {
   "cell_type": "code",
   "execution_count": 6,
   "id": "1a7c979a",
   "metadata": {},
   "outputs": [
    {
     "name": "stderr",
     "output_type": "stream",
     "text": [
      "  0%|          | 0/200 [00:00<?, ?it/s]c:\\Users\\garga\\Documents\\Uni\\four_room\\four_room\\shortest_path.py:152: RuntimeWarning: overflow encountered in scalar subtract\n",
      "  for p in nx.all_shortest_paths(graph, source=(*agent_pos, (agent_dir - 1)%4), target=(*goal_pos, dir)):\n",
      "100%|██████████| 200/200 [05:38<00:00,  1.69s/it]\n"
     ]
    }
   ],
   "source": [
    "random_dataset = Dataset()\n",
    "\n",
    "for i in tqdm(range(len(train_config['topologies']))):\n",
    "    obs, _ = env.reset()\n",
    "    done = False\n",
    "    while not done:\n",
    "        state = obs_to_state(obs)\n",
    "        q = find_all_action_values(state[:2], state[2], state[3:5], state[5:], 0.99, size)\n",
    "        action = env.action_space.sample()\n",
    "        random_dataset.add(obs, q, state)\n",
    "        obs, reward, terminated, truncated, info = env.step(action)\n",
    "        done = terminated or truncated\n",
    "        \n",
    "with open('action_values/random_dataset.pl', 'wb') as file:\n",
    "    dill.dump(random_dataset, file)"
   ]
  },
  {
   "cell_type": "code",
   "execution_count": 31,
   "id": "174318d5",
   "metadata": {},
   "outputs": [
    {
     "name": "stderr",
     "output_type": "stream",
     "text": [
      "c:\\Users\\garga\\Documents\\Uni\\four_room\\venv\\Lib\\site-packages\\gymnasium\\core.py:311: UserWarning: \u001b[33mWARN: env.height to get variables from other wrappers is deprecated and will be removed in v1.0, to get this variable you can do `env.unwrapped.height` for environment variables or `env.get_wrapper_attr('height')` that will search the reminding wrappers.\u001b[0m\n",
      "  logger.warn(\n",
      "c:\\Users\\garga\\Documents\\Uni\\four_room\\venv\\Lib\\site-packages\\gymnasium\\core.py:311: UserWarning: \u001b[33mWARN: env.width to get variables from other wrappers is deprecated and will be removed in v1.0, to get this variable you can do `env.unwrapped.width` for environment variables or `env.get_wrapper_attr('width')` that will search the reminding wrappers.\u001b[0m\n",
      "  logger.warn(\n"
     ]
    }
   ],
   "source": [
    "val_env = gym_wrapper(gym.make(\n",
    "        'MiniGrid-FourRooms-v1', \n",
    "        agent_pos= val_config['agent positions'],\n",
    "        goal_pos = val_config['goal positions'],\n",
    "        doors_pos = val_config['topologies'],\n",
    "        agent_dir = val_config['agent directions'],\n",
    "        size=size\n",
    "    ),\n",
    "    original_obs=True\n",
    ")"
   ]
  },
  {
   "cell_type": "code",
   "execution_count": 33,
   "id": "8e833a64",
   "metadata": {},
   "outputs": [
    {
     "name": "stderr",
     "output_type": "stream",
     "text": [
      "  0%|          | 0/40 [00:00<?, ?it/s]c:\\Users\\garga\\Documents\\Uni\\four_room\\four_room\\shortest_path.py:152: RuntimeWarning: overflow encountered in scalar subtract\n",
      "  for p in nx.all_shortest_paths(graph, source=(*agent_pos, (agent_dir - 1)%4), target=(*goal_pos, dir)):\n",
      "100%|██████████| 40/40 [00:11<00:00,  3.49it/s]\n"
     ]
    }
   ],
   "source": [
    "val_argmax_dataset = Dataset()\n",
    "\n",
    "for i in tqdm(range(len(val_config['topologies']))):\n",
    "    obs, _ = val_env.reset()\n",
    "    done = False\n",
    "    while not done:\n",
    "        state = obs_to_state(obs)\n",
    "        q = find_all_action_values(state[:2], state[2], state[3:5], state[5:], 0.99, size)\n",
    "        action = np.array(q).argmax()\n",
    "        val_argmax_dataset.add(obs, q, state)\n",
    "        obs, reward, terminated, truncated, info = val_env.step(action)\n",
    "        done = terminated or truncated"
   ]
  },
  {
   "cell_type": "markdown",
   "id": "81ec6d65",
   "metadata": {},
   "source": [
    "### Regression"
   ]
  },
  {
   "cell_type": "code",
   "execution_count": 50,
   "id": "51820727",
   "metadata": {},
   "outputs": [],
   "source": [
    "class RegressionModel(nn.Module):\n",
    "    \n",
    "    def __init__(\n",
    "        self, \n",
    "        obsservation_space, \n",
    "        action_space, \n",
    "        feature_dim: int = 64, \n",
    "        hidden_layers: list = list([256]), \n",
    "        activation: nn.Module = nn.ReLU,\n",
    "        lr: float = 1e-3, \n",
    "        *args, \n",
    "        **kwargs\n",
    "    ):\n",
    "        super(RegressionModel, self).__init__(*args, **kwargs)\n",
    "        \n",
    "        self.feature_extractor = CNN(obsservation_space, feature_dim)\n",
    "        self.layers = nn.Sequential(\n",
    "            nn.Linear(feature_dim, hidden_layers[0])\n",
    "        )\n",
    "        \n",
    "        # add more layers after the feature extractor\n",
    "        for i, layer in enumerate(hidden_layers[:-1]):\n",
    "            self.layers.append(\n",
    "                nn.Linear(layer, hidden_layers[i+1]),\n",
    "                activation()\n",
    "            )\n",
    "            \n",
    "        # final layer for predicting values\n",
    "        self.layers.append(\n",
    "            nn.Linear(hidden_layers[-1], action_space.n)\n",
    "        )\n",
    "        \n",
    "        self.loss = nn.MSELoss()\n",
    "        self.optimizer = torch.optim.Adam(self.parameters(), lr=lr)\n",
    "    \n",
    "        \n",
    "    def forward(self, obs):\n",
    "        x = self.feature_extractor(obs)\n",
    "        x = self.layers(x)\n",
    "        return x \n",
    "    \n",
    "    def train(\n",
    "        self, \n",
    "        dataset: Dataset, \n",
    "        val_dataset: Dataset, \n",
    "        timesteps: int = 100, \n",
    "        batch_size: int = 64, \n",
    "    ): \n",
    "        X_train = torch.as_tensor(np.array(dataset.X), dtype=torch.float32)\n",
    "        y_train = torch.as_tensor(np.array(dataset.Y), dtype=torch.float32)\n",
    "        \n",
    "        X_eval = torch.as_tensor(np.array(val_dataset.X), dtype=torch.float32)\n",
    "        y_eval = torch.as_tensor(np.array(val_dataset.Y), dtype=torch.float32)\n",
    "        \n",
    "        train_losses = []\n",
    "        val_losses = []\n",
    "        for step in range(timesteps+1):\n",
    "            batch_idx = torch.randint(low=0, high=len(dataset)-1, size=(batch_size,))\n",
    "            batch_x = X_train[batch_idx]\n",
    "            batch_y = y_train[batch_idx]\n",
    "            \n",
    "            preds = self(batch_x)\n",
    "            loss = self.loss(preds, batch_y)\n",
    "            \n",
    "            self.optimizer.zero_grad()\n",
    "            loss.backward()\n",
    "            self.optimizer.step()\n",
    "            \n",
    "            train_losses.append(loss.item())\n",
    "            with torch.no_grad():\n",
    "                val_preds = self(X_eval)\n",
    "                val_loss = self.loss(val_preds, y_eval)\n",
    "                val_losses.append(val_loss.item())\n",
    "                \n",
    "            print(f'Step: {step} | Loss: {loss.item():.3f} | Val Loss: {val_loss.item():.3f}', end='\\r')\n",
    "            \n",
    "        return train_losses, val_losses"
   ]
  },
  {
   "cell_type": "code",
   "execution_count": 51,
   "id": "f69c31d2",
   "metadata": {},
   "outputs": [
    {
     "name": "stdout",
     "output_type": "stream",
     "text": [
      "Step: 100 | Loss: 0.003 | Val Loss: 0.004\r"
     ]
    }
   ],
   "source": [
    "model = RegressionModel(env.observation_space, env.action_space)\n",
    "train_losses, val_losses = model.train(argmax_dataset, val_argmax_dataset)"
   ]
  },
  {
   "cell_type": "code",
   "execution_count": 53,
   "id": "cbab582b",
   "metadata": {},
   "outputs": [
    {
     "data": {
      "image/png": "[encoded data removed]",
      "text/plain": [
       "<Figure size 640x480 with 1 Axes>"
      ]
     },
     "metadata": {},
     "output_type": "display_data"
    }
   ],
   "source": [
    "plt.plot(np.arange(len(train_losses)), train_losses, label='Train Loss')\n",
    "plt.plot(np.arange(len(val_losses)), val_losses, label='Val Loss')\n",
    "plt.xlabel('Step')\n",
    "plt.ylabel('MSE Loss')\n",
    "plt.grid()\n",
    "plt.legend();"
   ]
  }
 ],
 "metadata": {
  "kernelspec": {
   "display_name": "venv",
   "language": "python",
   "name": "python3"
  },
  "language_info": {
   "codemirror_mode": {
    "name": "ipython",
    "version": 3
   },
   "file_extension": ".py",
   "mimetype": "text/x-python",
   "name": "python",
   "nbconvert_exporter": "python",
   "pygments_lexer": "ipython3",
   "version": "3.11.5"
  }
 },
 "nbformat": 4,
 "nbformat_minor": 5
}
